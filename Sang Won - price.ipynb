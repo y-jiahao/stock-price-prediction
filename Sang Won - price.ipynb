{
 "cells": [
  {
   "cell_type": "code",
   "execution_count": null,
   "metadata": {},
   "outputs": [],
   "source": [
    "lnprice = tsda_new.drop(['1. open','2. high','3. low','4. close','6. volume', '7. dividend amount', '8. split coefficient'],1)\n",
    "lnprice.rename(columns={\"5. adjusted close\":\"price\"},inplace=True)\n",
    "\n",
    "lnprice.price = pd.to_numeric(lnprice.price)\n",
    "lnprice['lnprice'] = np.log(lnprice['price'])\n",
    "lnprice = lnprice.drop('price', axis = 1)\n",
    "\n",
    "lnprice.index.name = 'date'"
   ]
  }
 ],
 "metadata": {
  "kernelspec": {
   "display_name": "Python 3",
   "language": "python",
   "name": "python3"
  },
  "language_info": {
   "codemirror_mode": {
    "name": "ipython",
    "version": 3
   },
   "file_extension": ".py",
   "mimetype": "text/x-python",
   "name": "python",
   "nbconvert_exporter": "python",
   "pygments_lexer": "ipython3",
   "version": "3.8.5"
  }
 },
 "nbformat": 4,
 "nbformat_minor": 4
}
