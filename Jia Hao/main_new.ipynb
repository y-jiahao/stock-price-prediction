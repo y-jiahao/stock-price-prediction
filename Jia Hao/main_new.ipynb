{
 "cells": [
  {
   "cell_type": "code",
   "execution_count": 3,
   "metadata": {},
   "outputs": [],
   "source": [
    "import requests\n",
    "import json\n",
    "import pandas as pd\n",
    "import seaborn as sb\n",
    "import numpy as np\n",
    "import matplotlib.pyplot as plt\n",
    "import datetime as dt"
   ]
  },
  {
   "cell_type": "code",
   "execution_count": 5,
   "metadata": {
    "tags": []
   },
   "outputs": [],
   "source": [
    "BALSHT = requests.get('https://www.alphavantage.co/query?function=BALANCE_SHEET&symbol=AAPL&apikey=BNM3OK9KHBBVD3YZ') #api request for balance sheet for AAPL\n",
    "INCSTAT = requests.get('https://www.alphavantage.co/query?function=INCOME_STATEMENT&symbol=AAPL&apikey=BNM3OK9KHBBVD3YZ') #api request for income statement for AAPL\n"
   ]
  },
  {
   "cell_type": "code",
   "execution_count": 7,
   "metadata": {},
   "outputs": [],
   "source": [
    "bsdata = BALSHT.text\n",
    "bsparsed = json.loads(bsdata)\n",
    "bsquartdata = bsparsed['quarterlyReports']\n",
    "bsquartdf = pd.DataFrame.from_dict(bsquartdata)\n",
    "\n",
    "isdata = INCSTAT.text\n",
    "isparsed = json.loads(isdata)\n",
    "isquartdata = isparsed['quarterlyReports']\n",
    "isquartdf = pd.DataFrame.from_dict(isquartdata)"
   ]
  },
  {
   "cell_type": "code",
   "execution_count": 9,
   "metadata": {},
   "outputs": [],
   "source": [
    "response = requests.get('https://www.alphavantage.co/query?function=TIME_SERIES_DAILY_ADJUSTED&symbol=aapl&outputsize=full&apikey=BNM3OK9KHBBVD3YZ')\n",
    "data = response.text\n",
    "parsed = json.loads(data)\n",
    "tsdata = parsed['Time Series (Daily)']\n",
    "tsda = pd.DataFrame.from_dict(tsdata, orient='index')\n",
    "tsda_new=tsda.loc[:'2009-01-02',]"
   ]
  },
  {
   "cell_type": "code",
   "execution_count": 11,
   "metadata": {},
   "outputs": [],
   "source": [
    "bsolddf = pd.read_excel(\"AAPL BAL SHEET.xls\")\n",
    "\n",
    "isolddf = pd.read_excel(\"AAPL INCOME SHEET.xls\")"
   ]
  },
  {
   "cell_type": "code",
   "execution_count": 13,
   "metadata": {},
   "outputs": [
    {
     "output_type": "stream",
     "name": "stderr",
     "text": [
      "<ipython-input-13-f16ba6565ca0>:2: SettingWithCopyWarning: \nA value is trying to be set on a copy of a slice from a DataFrame.\nTry using .loc[row_indexer,col_indexer] = value instead\n\nSee the caveats in the documentation: https://pandas.pydata.org/pandas-docs/stable/user_guide/indexing.html#returning-a-view-versus-a-copy\n  assets_liab_new['fiscalDateEnding'] = pd.to_datetime(assets_liab_new['fiscalDateEnding'])\n"
     ]
    }
   ],
   "source": [
    "assets_liab_new = bsquartdf[['fiscalDateEnding', 'totalAssets', 'totalLiabilities']]\n",
    "assets_liab_new['fiscalDateEnding'] = pd.to_datetime(assets_liab_new['fiscalDateEnding'])\n",
    "assets_liab_new[['totalAssets', 'totalLiabilities']] = assets_liab_new[['totalAssets', 'totalLiabilities']].apply(pd.to_numeric)\n",
    "assets_liab_old = bsolddf[['Period End Date', 'TOTAL ASSETS', 'TOTAL LIABILITIES']]\n",
    "new_cols = {x: y for x, y in zip(assets_liab_old.columns, assets_liab_new.columns)}\n",
    "assets_liab1 = assets_liab_new.append(assets_liab_old.rename(columns=new_cols))\n",
    "assets_liab = assets_liab1.set_index('fiscalDateEnding')\n",
    "\n",
    "assets_liab.loc['2019-06-30\t', 'totalLiabilities'] = 225783000000\n",
    "assets_liab.loc['2019-03-31', 'totalLiabilities'] = 236138000000\n",
    "assets_liab.loc['2018-12-31', 'totalLiabilities'] = 255827000000\n",
    "assets_liab.loc['2018-09-30', 'totalLiabilities'] = 258578000000"
   ]
  },
  {
   "cell_type": "code",
   "execution_count": 32,
   "metadata": {},
   "outputs": [],
   "source": [
    "#sb.lineplot(data=assets_liab, x=\"fiscalDateEnding\", y=\"totalAssets\")"
   ]
  },
  {
   "cell_type": "code",
   "execution_count": 33,
   "metadata": {},
   "outputs": [
    {
     "output_type": "stream",
     "name": "stderr",
     "text": [
      "<ipython-input-33-034380a045d3>:2: SettingWithCopyWarning: \nA value is trying to be set on a copy of a slice from a DataFrame.\nTry using .loc[row_indexer,col_indexer] = value instead\n\nSee the caveats in the documentation: https://pandas.pydata.org/pandas-docs/stable/user_guide/indexing.html#returning-a-view-versus-a-copy\n  profits_new['fiscalDateEnding'] = pd.to_datetime(profits_new['fiscalDateEnding'])\n<ipython-input-33-034380a045d3>:3: SettingWithCopyWarning: \nA value is trying to be set on a copy of a slice from a DataFrame.\nTry using .loc[row_indexer,col_indexer] = value instead\n\nSee the caveats in the documentation: https://pandas.pydata.org/pandas-docs/stable/user_guide/indexing.html#returning-a-view-versus-a-copy\n  profits_new['grossProfit'] = pd.to_numeric(profits_new['grossProfit'])\n"
     ]
    }
   ],
   "source": [
    "profits_new = isquartdf[['fiscalDateEnding', 'grossProfit']]\n",
    "profits_new['fiscalDateEnding'] = pd.to_datetime(profits_new['fiscalDateEnding'])\n",
    "profits_new['grossProfit'] = pd.to_numeric(profits_new['grossProfit'])\n",
    "profits_old = isolddf[['Period End Date', 'Gross Profit']]\n",
    "new_cols = {x: y for x, y in zip(profits_old.columns, profits_new.columns)}\n",
    "profits1 = profits_new.append(profits_old.rename(columns=new_cols))\n",
    "profits = profits1.set_index('fiscalDateEnding')\n",
    "\n"
   ]
  },
  {
   "cell_type": "code",
   "execution_count": 35,
   "metadata": {
    "tags": []
   },
   "outputs": [],
   "source": [
    "assets_liab_ordinal = assets_liab.copy(deep=True)\n",
    "assets_liab_ordinal.index = assets_liab_ordinal.index.map(dt.datetime.toordinal)\n",
    "profits_ordinal = profits.copy(deep=True)\n",
    "profits_ordinal.index = profits_ordinal.index.map(dt.datetime.toordinal)\n",
    "\n",
    "db_clean = pd.DataFrame({'Date': tsda_new.index, 'totalAssets': np.nan, 'totalLiabilities': np.nan, 'grossProfit': np.nan})\n",
    "db_clean['Date'] = pd.to_datetime(db_clean['Date'])\n",
    "db_clean = db_clean.set_index('Date')\n",
    "db_clean.index = db_clean.index.map(dt.datetime.toordinal)"
   ]
  },
  {
   "cell_type": "code",
   "execution_count": 39,
   "metadata": {},
   "outputs": [],
   "source": [
    "i = 0\n",
    "date = assets_liab_ordinal.index[i]\n",
    "\n",
    "for d in db_clean.index:\n",
    "    if d >= date:\n",
    "        db_clean.loc[d, 'totalAssets'] = assets_liab_ordinal.iloc[i, 0]\n",
    "        db_clean.loc[d, 'totalLiabilities'] = assets_liab_ordinal.iloc[i, 1]\n",
    "        db_clean.loc[d, 'grossProfit'] = profits_ordinal.iloc[i, 0]\n",
    "    else:\n",
    "        i = i+1\n",
    "        date = assets_liab_ordinal.index[i]\n",
    "        db_clean.loc[d, 'totalAssets'] = assets_liab_ordinal.iloc[i, 0]\n",
    "        db_clean.loc[d, 'totalLiabilities'] = assets_liab_ordinal.iloc[i, 1]\n",
    "        db_clean.loc[d, 'grossProfit'] = profits_ordinal.iloc[i, 0]\n"
   ]
  },
  {
   "cell_type": "code",
   "execution_count": null,
   "metadata": {},
   "outputs": [],
   "source": []
  }
 ],
 "metadata": {
  "kernelspec": {
   "name": "python385jvsc74a57bd002254c8f54408e894b82c00db043aac162cd364ff9711a240960602491338e75",
   "display_name": "Python 3.8.5 64-bit (conda)"
  },
  "metadata": {
   "interpreter": {
    "hash": "5a5a574c9087fd6a71f96c74ca310d650bf5716d1f4a9c71421dce1765913e73"
   }
  }
 },
 "nbformat": 4,
 "nbformat_minor": 4
}