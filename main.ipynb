{
 "cells": [
  {
   "cell_type": "code",
   "execution_count": 2,
   "metadata": {},
   "outputs": [],
   "source": [
    "import requests\n",
    "import json\n",
    "import pandas as pd"
   ]
  },
  {
   "cell_type": "code",
   "execution_count": 3,
   "metadata": {
    "tags": []
   },
   "outputs": [],
   "source": [
    "response = requests.get('https://www.alphavantage.co/query?function=TIME_SERIES_INTRADAY&symbol=IBM&interval=5min&outputsize=full&apikey=BNM3OK9KHBBVD3YZ') #api request for full timeseries data for IBM"
   ]
  },
  {
   "cell_type": "code",
   "execution_count": 35,
   "metadata": {},
   "outputs": [
    {
     "output_type": "execute_result",
     "data": {
      "text/plain": [
       "<bound method NDFrame.head of                       1. open   2. high    3. low  4. close 5. volume\n",
       "2021-02-23 18:20:00  120.7000  120.7000  120.7000  120.7000       500\n",
       "2021-02-23 17:10:00  120.5600  120.5600  120.5600  120.5600       105\n",
       "2021-02-23 17:00:00  120.7000  120.7100  120.7000  120.7100       625\n",
       "2021-02-23 16:35:00  120.5400  120.5400  120.5400  120.5400       201\n",
       "2021-02-23 16:15:00  120.7100  120.7100  120.7100  120.7100     10620\n",
       "...                       ...       ...       ...       ...       ...\n",
       "2021-01-26 07:25:00  117.0475  117.0475  117.0475  117.0475       316\n",
       "2021-01-26 07:20:00  117.0672  117.0672  117.0573  117.0573       762\n",
       "2021-01-26 06:10:00  117.1363  117.1363  117.1363  117.1363       349\n",
       "2021-01-26 05:00:00  117.0968  117.0968  117.0968  117.0968       300\n",
       "2021-01-26 04:05:00  116.9093  116.9093  116.9093  116.9093       210\n",
       "\n",
       "[2358 rows x 5 columns]>"
      ]
     },
     "metadata": {},
     "execution_count": 35
    }
   ],
   "source": [
    "data = response.text\n",
    "parsed = json.loads(data)\n",
    "metadata = parsed['Meta Data']\n",
    "tsdata = parsed['Time Series (5min)']\n",
    "tsdf = pd.DataFrame.from_dict(tsdata, orient='index')\n",
    "tsdf.head()"
   ]
  },
  {
   "cell_type": "code",
   "execution_count": null,
   "metadata": {},
   "outputs": [],
   "source": []
  }
 ],
 "metadata": {
  "kernelspec": {
   "name": "python3",
   "display_name": "Python 3",
   "language": "python"
  }
 },
 "nbformat": 4,
 "nbformat_minor": 4
}