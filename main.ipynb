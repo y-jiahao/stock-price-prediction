{
 "cells": [
  {
   "cell_type": "code",
   "execution_count": 2,
   "metadata": {},
   "outputs": [],
   "source": [
    "import requests\n",
    "import json\n",
    "import pandas as pd"
   ]
  },
  {
   "cell_type": "code",
   "execution_count": 3,
   "metadata": {
    "tags": []
   },
   "outputs": [],
   "source": [
    "response = requests.get('https://www.alphavantage.co/query?function=TIME_SERIES_INTRADAY&symbol=IBM&interval=5min&outputsize=full&apikey=BNM3OK9KHBBVD3YZ') #api request for full timeseries data for IBM"
   ]
  },
  {
   "cell_type": "code",
   "execution_count": 34,
   "metadata": {},
   "outputs": [
    {
     "output_type": "execute_result",
     "data": {
      "text/plain": [
       "                      1. open   2. high    3. low  4. close 5. volume\n",
       "2021-02-23 18:20:00  120.7000  120.7000  120.7000  120.7000       500\n",
       "2021-02-23 17:10:00  120.5600  120.5600  120.5600  120.5600       105\n",
       "2021-02-23 17:00:00  120.7000  120.7100  120.7000  120.7100       625\n",
       "2021-02-23 16:35:00  120.5400  120.5400  120.5400  120.5400       201\n",
       "2021-02-23 16:15:00  120.7100  120.7100  120.7100  120.7100     10620"
      ],
      "text/html": "<div>\n<style scoped>\n    .dataframe tbody tr th:only-of-type {\n        vertical-align: middle;\n    }\n\n    .dataframe tbody tr th {\n        vertical-align: top;\n    }\n\n    .dataframe thead th {\n        text-align: right;\n    }\n</style>\n<table border=\"1\" class=\"dataframe\">\n  <thead>\n    <tr style=\"text-align: right;\">\n      <th></th>\n      <th>1. open</th>\n      <th>2. high</th>\n      <th>3. low</th>\n      <th>4. close</th>\n      <th>5. volume</th>\n    </tr>\n  </thead>\n  <tbody>\n    <tr>\n      <th>2021-02-23 18:20:00</th>\n      <td>120.7000</td>\n      <td>120.7000</td>\n      <td>120.7000</td>\n      <td>120.7000</td>\n      <td>500</td>\n    </tr>\n    <tr>\n      <th>2021-02-23 17:10:00</th>\n      <td>120.5600</td>\n      <td>120.5600</td>\n      <td>120.5600</td>\n      <td>120.5600</td>\n      <td>105</td>\n    </tr>\n    <tr>\n      <th>2021-02-23 17:00:00</th>\n      <td>120.7000</td>\n      <td>120.7100</td>\n      <td>120.7000</td>\n      <td>120.7100</td>\n      <td>625</td>\n    </tr>\n    <tr>\n      <th>2021-02-23 16:35:00</th>\n      <td>120.5400</td>\n      <td>120.5400</td>\n      <td>120.5400</td>\n      <td>120.5400</td>\n      <td>201</td>\n    </tr>\n    <tr>\n      <th>2021-02-23 16:15:00</th>\n      <td>120.7100</td>\n      <td>120.7100</td>\n      <td>120.7100</td>\n      <td>120.7100</td>\n      <td>10620</td>\n    </tr>\n  </tbody>\n</table>\n</div>"
     },
     "metadata": {},
     "execution_count": 34
    }
   ],
   "source": [
    "data = response.text\n",
    "parsed = json.loads(data)\n",
    "metadata = parsed['Meta Data']\n",
    "tsdata = parsed['Time Series (5min)']\n",
    "tsdf = pd.DataFrame.from_dict(tsdata, orient='index')\n",
    "tsdf.head()"
   ]
  },
  {
   "cell_type": "code",
   "execution_count": null,
   "metadata": {},
   "outputs": [],
   "source": []
  }
 ],
 "metadata": {
  "kernelspec": {
   "name": "python3",
   "display_name": "Python 3",
   "language": "python"
  }
 },
 "nbformat": 4,
 "nbformat_minor": 4
}