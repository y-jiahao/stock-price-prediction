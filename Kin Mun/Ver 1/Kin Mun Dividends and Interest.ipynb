{
 "cells": [
  {
   "cell_type": "code",
   "execution_count": 133,
   "metadata": {},
   "outputs": [],
   "source": [
    "import requests\n",
    "import json\n",
    "import pandas as pd\n",
    "import datetime\n",
    "\n",
    "#extract dividend data\n",
    "response = requests.get('https://www.alphavantage.co/query?function=TIME_SERIES_DAILY_ADJUSTED&symbol=aapl&outputsize=full&apikey=GZZHIBO1SGTLPGB1')\n",
    "data = response.text\n",
    "parsed = json.loads(data)\n",
    "tsdata = parsed['Time Series (Daily)']\n",
    "tsda = pd.DataFrame.from_dict(tsdata, orient='index')\n",
    "tsda_new=tsda.loc[:'2009-01-02',]"
   ]
  },
  {
   "cell_type": "code",
   "execution_count": 134,
   "metadata": {
    "scrolled": false
   },
   "outputs": [
    {
     "name": "stdout",
     "output_type": "stream",
     "text": [
      "                 price  adjusted_dividend  dividend yield\n",
      "2021-02-05  136.760000           0.205000        0.001499\n",
      "2020-11-06  118.690000           0.205000        0.001727\n",
      "2020-08-07  111.112500           0.205000        0.001845\n",
      "2020-05-08   77.532500           0.205000        0.002644\n",
      "2020-02-07   80.007500           0.192500        0.002406\n",
      "2019-11-07   64.857500           0.192500        0.002968\n",
      "2019-08-09   50.247500           0.192500        0.003831\n",
      "2019-05-10   49.295000           0.192500        0.003905\n",
      "2019-02-08   42.602500           0.182500        0.004284\n",
      "2018-11-08   52.122500           0.182500        0.003501\n",
      "2018-08-10   51.882500           0.182500        0.003518\n",
      "2018-05-11   47.147500           0.182500        0.003871\n",
      "2018-02-09   39.102500           0.157500        0.004028\n",
      "2017-11-10   43.667500           0.157500        0.003607\n",
      "2017-08-10   38.830000           0.157500        0.004056\n",
      "2017-05-11   38.487500           0.157500        0.004092\n",
      "2017-02-09   33.105000           0.142500        0.004304\n",
      "2016-11-03   27.457500           0.142500        0.005190\n",
      "2016-08-04   26.467500           0.142500        0.005384\n",
      "2016-05-05   23.310000           0.142500        0.006113\n",
      "2016-02-04   24.150000           0.130000        0.005383\n",
      "2015-11-05   30.230000           0.130000        0.004300\n",
      "2015-08-06   28.782500           0.130000        0.004517\n",
      "2015-05-07   31.315000           0.130000        0.004151\n",
      "2015-02-05   29.985000           0.117500        0.003919\n",
      "2014-11-06   27.175000           0.117500        0.004324\n",
      "2014-08-07   23.620000           0.117500        0.004975\n",
      "2014-05-08   20.999643           0.117500        0.005595\n",
      "2014-02-06   18.303929           0.108929        0.005951\n",
      "2013-11-06   18.604286           0.108929        0.005855\n",
      "2013-08-08   16.464643           0.108929        0.006616\n",
      "2013-05-09   16.313214           0.108929        0.006677\n",
      "2013-02-07   16.722143           0.094643        0.005660\n",
      "2012-11-07   19.928639           0.094643        0.004749\n",
      "2012-08-09   22.168929           0.094643        0.004269\n"
     ]
    }
   ],
   "source": [
    "#extracting dividends\n",
    "dividend=tsda_new.drop(['1. open','2. high','3. low','5. adjusted close','6. volume','8. split coefficient'],1)\n",
    "dividend.index = pd.to_datetime(dividend.index)\n",
    "dividend.rename(columns={\"4. close\":\"price\",\"7. dividend amount\":\"adjusted_dividend\"},inplace=True)\n",
    "#cleaning of dividend data with stock split data\n",
    "dividend.adjusted_dividend = pd.to_numeric(dividend.adjusted_dividend)\n",
    "dividend.price = pd.to_numeric(dividend.price)\n",
    "#remove zeroes\n",
    "indexNames = dividend[ dividend['adjusted_dividend'] == 0 ].index\n",
    "dividend.drop(indexNames , inplace=True)\n",
    "#account for stock split\n",
    "dividend_before_2020=dividend.loc['2020-08-07':,]\n",
    "dividend_before_2020=(dividend_before_2020)/4\n",
    "dividend_before_2014=dividend_before_2020.loc['2014-05-08':,]\n",
    "dividend_before_2014=dividend_before_2014/7\n",
    "dividend.update(dividend_before_2020)\n",
    "dividend.update(dividend_before_2014)\n",
    "dividend['dividend yield'] = dividend['adjusted_dividend']/dividend['price']\n",
    "print(dividend)"
   ]
  },
  {
   "cell_type": "code",
   "execution_count": 135,
   "metadata": {},
   "outputs": [],
   "source": [
    "#extract interest rates\n",
    "interest=pd.read_csv('FEDFUNDS.csv',index_col=0)\n",
    "interest.index = pd.to_datetime(interest.index)"
   ]
  },
  {
   "cell_type": "code",
   "execution_count": null,
   "metadata": {
    "scrolled": true
   },
   "outputs": [],
   "source": [
    "from alpha_vantage.timeseries import TimeSeries\n",
    "from alpha_vantage.techindicators import TechIndicators\n",
    "from matplotlib.pyplot import figure\n",
    "import matplotlib.pyplot as plt\n",
    "\n",
    "key='GZZHIBO1SGTLPGB1'\n",
    "ts = TimeSeries(key, output_format='pandas')\n",
    "ti = TechIndicators(key)\n",
    "\n",
    "aapl_data, aapl_meta_data = ts.get_daily_adjusted(symbol='AAPL',outputsize='full')\n",
    "aapl_sma,aapl_metadata_sma = ti.get_sma(symbol='AAPL')\n",
    "\n",
    "figure (num=None, figsize=(15,6), dpi=80)\n",
    "aapl_data['5. adjusted close'].plot()\n",
    "plt.tight_layout()\n",
    "plt.grid\n",
    "plt.show()\n",
    "print(aapl_data)"
   ]
  },
  {
   "cell_type": "code",
   "execution_count": null,
   "metadata": {},
   "outputs": [],
   "source": [
    "aapl_time=aapl_data.loc[:'2009-01-02',];\n",
    "aapl_dividend=aapl_time.drop(['1. open','2. high','3. low','4. close','5. adjusted close','6. volume'],1)\n",
    "aapl_dividend.rename(columns={\"7. dividend amount\":\"dividend\",\"8. split coefficient\":\"split\"},inplace=True)\n",
    "indexNames = aapl_dividend[ (aapl_dividend['dividend'] == 0) & (aapl_dividend['split'] == 1.0) ].index\n",
    "aapl_dividend.drop(indexNames , inplace=True)\n",
    "aapl_dividend\n"
   ]
  },
  {
   "cell_type": "code",
   "execution_count": null,
   "metadata": {},
   "outputs": [],
   "source": [
    "import requests\n",
    "import pandas as pd\n",
    "\n",
    "# get data from api\n",
    "base_url = 'https://www.alphavantage.co/query?'\n",
    "params = {'function': 'TIME_SERIES_DAILY','symbol': 'AAPL', 'apikey': 'GZZHIBO1SGTLPGB1'}\n",
    "response = requests.get(base_url, params=params)\n",
    "\n",
    "# convert text data in to a list of of list\n",
    "data = [row.strip().split(',') for row in response.text.split('\\n')]\n",
    "\n",
    "# load data into a dataframe\n",
    "#df = pd.DataFrame(data[1:-1][1:-1], columns=data[0])\n",
    "\n",
    "# display(df)\n",
    "data"
   ]
  },
  {
   "cell_type": "code",
   "execution_count": null,
   "metadata": {},
   "outputs": [],
   "source": [
    "plt.figure(figsize=(10,10))\n",
    "plt.plot(interest.index, interest['FEDFUNDS'])\n",
    "plt.xlabel(\"Time\")\n",
    "plt.ylabel(\"Fed Interest\")\n",
    "plt.title(\"Fed Interest Rates from 2009-2021\")"
   ]
  },
  {
   "cell_type": "code",
   "execution_count": null,
   "metadata": {},
   "outputs": [],
   "source": [
    "plt.figure(figsize=(10,10))\n",
    "plt.plot(dividend.index, dividend['adjusted_dividend'])\n",
    "\n",
    "plt.xlabel(\"Time\")\n",
    "plt.ylabel(\"Dividend\")\n",
    "plt.title(\"Adjusted Dividend\")"
   ]
  },
  {
   "cell_type": "code",
   "execution_count": null,
   "metadata": {},
   "outputs": [],
   "source": []
  },
  {
   "cell_type": "code",
   "execution_count": null,
   "metadata": {},
   "outputs": [],
   "source": []
  },
  {
   "cell_type": "code",
   "execution_count": null,
   "metadata": {},
   "outputs": [],
   "source": []
  }
 ],
 "metadata": {
  "kernelspec": {
   "display_name": "Python 3",
   "language": "python",
   "name": "python3"
  },
  "language_info": {
   "codemirror_mode": {
    "name": "ipython",
    "version": 3
   },
   "file_extension": ".py",
   "mimetype": "text/x-python",
   "name": "python",
   "nbconvert_exporter": "python",
   "pygments_lexer": "ipython3",
   "version": "3.8.5"
  }
 },
 "nbformat": 4,
 "nbformat_minor": 4
}
