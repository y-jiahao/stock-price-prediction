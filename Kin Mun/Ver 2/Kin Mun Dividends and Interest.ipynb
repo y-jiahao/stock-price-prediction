{
 "cells": [
  {
   "cell_type": "code",
   "execution_count": 12,
   "metadata": {},
   "outputs": [],
   "source": [
    "import requests\n",
    "import json\n",
    "import pandas as pd\n",
    "import datetime\n",
    "import numpy as np\n",
    "import matplotlib.pyplot as plt\n",
    "\n",
    "\n",
    "#extract data from Stock Vantage\n",
    "response = requests.get('https://www.alphavantage.co/query?function=TIME_SERIES_DAILY_ADJUSTED&symbol=aapl&outputsize=full&apikey=GZZHIBO1SGTLPGB1')\n",
    "data = response.text\n",
    "parsed = json.loads(data)\n",
    "tsdata = parsed['Time Series (Daily)']\n",
    "tsda = pd.DataFrame.from_dict(tsdata, orient='index')\n",
    "tsda_new=tsda.loc[:'2009-01-02',]\n",
    "tsda_new.index = pd.to_datetime(tsda_new.index)\n",
    "tsda_new.index=tsda_new.index.map(datetime.datetime.toordinal)\n"
   ]
  },
  {
   "cell_type": "code",
   "execution_count": 13,
   "metadata": {},
   "outputs": [],
   "source": [
    "#extracting price from tsda_new\n",
    "price=tsda_new.drop(['1. open','2. high','3. low','4. close','6. volume','7. dividend amount','8. split coefficient'],1)\n",
    "price.rename(columns={\"5. adjusted close\":\"price\"},inplace=True)\n",
    "price.price = pd.to_numeric(price.price)\n",
    "price.insert(1, \"fed_interest\",np.nan)\n",
    "price.insert(2, \"dividend_yield\",np.nan)"
   ]
  },
  {
   "cell_type": "code",
   "execution_count": 14,
   "metadata": {
    "scrolled": true
   },
   "outputs": [],
   "source": [
    "#extracting dividends from tsda_new\n",
    "dividend=tsda_new.drop(['1. open','2. high','3. low','5. adjusted close','6. volume','8. split coefficient'],1)\n",
    "dividend.rename(columns={\"4. close\":\"price\",\"7. dividend amount\":\"adjusted_dividend\"},inplace=True)\n",
    "#cleaning of dividend data\n",
    "dividend.adjusted_dividend = pd.to_numeric(dividend.adjusted_dividend)\n",
    "dividend.price = pd.to_numeric(dividend.price)\n",
    "#remove zeroes\n",
    "indexNames = dividend[ dividend['adjusted_dividend'] == 0 ].index\n",
    "dividend.drop(indexNames , inplace=True)\n",
    "#account for stock split\n",
    "dividend_before_2020=dividend.loc['2020-08-07':,]\n",
    "dividend_before_2020=(dividend_before_2020)/4\n",
    "dividend_before_2014=dividend_before_2020.loc['2014-05-08':,]\n",
    "dividend_before_2014=dividend_before_2014/7\n",
    "dividend.update(dividend_before_2020)\n",
    "dividend.update(dividend_before_2014)\n",
    "dividend['dividend_yield'] = dividend['adjusted_dividend']/dividend['price']*100"
   ]
  },
  {
   "cell_type": "code",
   "execution_count": 28,
   "metadata": {},
   "outputs": [],
   "source": [
    "#extract interest rates\n",
    "interest = pd.read_csv('FEDFUNDS.csv',index_col=0)\n",
    "interest.index = pd.to_datetime(interest.index)\n",
    "interest.index = interest.index.map(datetime.datetime.toordinal)\n",
    "interest = interest.drop(interest.columns[1:], axis=1)"
   ]
  },
  {
   "cell_type": "code",
   "execution_count": 27,
   "metadata": {},
   "outputs": [
    {
     "name": "stdout",
     "output_type": "stream",
     "text": [
      "             price  fed_interest  dividend_yield\n",
      "Date                                            \n",
      "737888  130.360000          0.07        0.149898\n",
      "737887  127.900000          0.07        0.149898\n",
      "737886  126.210000          0.07        0.149898\n",
      "737885  125.900000          0.07        0.149898\n",
      "737881  123.000000          0.07        0.149898\n",
      "...            ...           ...             ...\n",
      "733415    2.851361          0.15        0.000000\n",
      "733414    2.799378          0.15        0.000000\n",
      "733413    2.861204          0.15        0.000000\n",
      "733412    2.909188          0.15        0.000000\n",
      "733409    2.791381          0.15        0.000000\n",
      "\n",
      "[3087 rows x 3 columns]\n"
     ]
    }
   ],
   "source": [
    "#adding variables to the dataframe\n",
    "price.update(interest)\n",
    "price.update(dividend)\n",
    "\n",
    "#Adding data points for quarterly dividend yield\n",
    "div=0\n",
    "date=4417\n",
    "i=price.shape[0]-1\n",
    "for date in price.index:\n",
    "    if pd.isnull(price.iloc[i,2]):\n",
    "        price.iloc[i,2]=div\n",
    "        i-=1\n",
    "    else:\n",
    "        div=price.iloc[i,2]\n",
    "        i-=1\n",
    "\n",
    "price.index.names = ['Date']\n",
    "print(price)"
   ]
  },
  {
   "cell_type": "code",
   "execution_count": null,
   "metadata": {
    "scrolled": true
   },
   "outputs": [],
   "source": []
  },
  {
   "cell_type": "code",
   "execution_count": null,
   "metadata": {},
   "outputs": [],
   "source": []
  },
  {
   "cell_type": "code",
   "execution_count": null,
   "metadata": {},
   "outputs": [],
   "source": []
  },
  {
   "cell_type": "code",
   "execution_count": null,
   "metadata": {},
   "outputs": [],
   "source": []
  },
  {
   "cell_type": "code",
   "execution_count": null,
   "metadata": {},
   "outputs": [],
   "source": []
  }
 ],
 "metadata": {
  "kernelspec": {
   "display_name": "Python 3",
   "language": "python",
   "name": "python3"
  },
  "language_info": {
   "codemirror_mode": {
    "name": "ipython",
    "version": 3
   },
   "file_extension": ".py",
   "mimetype": "text/x-python",
   "name": "python",
   "nbconvert_exporter": "python",
   "pygments_lexer": "ipython3",
   "version": "3.8.5"
  }
 },
 "nbformat": 4,
 "nbformat_minor": 4
}
