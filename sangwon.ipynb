{
 "cells": [
  {
   "cell_type": "code",
   "execution_count": 1,
   "metadata": {
    "scrolled": true
   },
   "outputs": [
    {
     "data": {
      "text/html": [
       "<div>\n",
       "<style scoped>\n",
       "    .dataframe tbody tr th:only-of-type {\n",
       "        vertical-align: middle;\n",
       "    }\n",
       "\n",
       "    .dataframe tbody tr th {\n",
       "        vertical-align: top;\n",
       "    }\n",
       "\n",
       "    .dataframe thead th {\n",
       "        text-align: right;\n",
       "    }\n",
       "</style>\n",
       "<table border=\"1\" class=\"dataframe\">\n",
       "  <thead>\n",
       "    <tr style=\"text-align: right;\">\n",
       "      <th></th>\n",
       "      <th>1. open</th>\n",
       "      <th>2. high</th>\n",
       "      <th>3. low</th>\n",
       "      <th>4. close</th>\n",
       "      <th>5. adjusted close</th>\n",
       "      <th>6. volume</th>\n",
       "      <th>7. dividend amount</th>\n",
       "      <th>8. split coefficient</th>\n",
       "    </tr>\n",
       "  </thead>\n",
       "  <tbody>\n",
       "    <tr>\n",
       "      <th>2021-03-25</th>\n",
       "      <td>119.54</td>\n",
       "      <td>121.66</td>\n",
       "      <td>119.0</td>\n",
       "      <td>120.59</td>\n",
       "      <td>120.59</td>\n",
       "      <td>98844681</td>\n",
       "      <td>0.0000</td>\n",
       "      <td>1.0</td>\n",
       "    </tr>\n",
       "    <tr>\n",
       "      <th>2021-03-24</th>\n",
       "      <td>122.82</td>\n",
       "      <td>122.9</td>\n",
       "      <td>120.065</td>\n",
       "      <td>120.09</td>\n",
       "      <td>120.09</td>\n",
       "      <td>88530485</td>\n",
       "      <td>0.0000</td>\n",
       "      <td>1.0</td>\n",
       "    </tr>\n",
       "    <tr>\n",
       "      <th>2021-03-23</th>\n",
       "      <td>123.33</td>\n",
       "      <td>124.24</td>\n",
       "      <td>122.14</td>\n",
       "      <td>122.54</td>\n",
       "      <td>122.54</td>\n",
       "      <td>95467142</td>\n",
       "      <td>0.0000</td>\n",
       "      <td>1.0</td>\n",
       "    </tr>\n",
       "    <tr>\n",
       "      <th>2021-03-22</th>\n",
       "      <td>120.33</td>\n",
       "      <td>123.87</td>\n",
       "      <td>120.26</td>\n",
       "      <td>123.39</td>\n",
       "      <td>123.39</td>\n",
       "      <td>111912284</td>\n",
       "      <td>0.0000</td>\n",
       "      <td>1.0</td>\n",
       "    </tr>\n",
       "    <tr>\n",
       "      <th>2021-03-19</th>\n",
       "      <td>119.9</td>\n",
       "      <td>121.43</td>\n",
       "      <td>119.675</td>\n",
       "      <td>119.99</td>\n",
       "      <td>119.99</td>\n",
       "      <td>185549522</td>\n",
       "      <td>0.0000</td>\n",
       "      <td>1.0</td>\n",
       "    </tr>\n",
       "    <tr>\n",
       "      <th>...</th>\n",
       "      <td>...</td>\n",
       "      <td>...</td>\n",
       "      <td>...</td>\n",
       "      <td>...</td>\n",
       "      <td>...</td>\n",
       "      <td>...</td>\n",
       "      <td>...</td>\n",
       "      <td>...</td>\n",
       "    </tr>\n",
       "    <tr>\n",
       "      <th>2009-01-08</th>\n",
       "      <td>90.43</td>\n",
       "      <td>93.15</td>\n",
       "      <td>90.04</td>\n",
       "      <td>92.7</td>\n",
       "      <td>2.8513609598</td>\n",
       "      <td>24053600</td>\n",
       "      <td>0.0000</td>\n",
       "      <td>1.0</td>\n",
       "    </tr>\n",
       "    <tr>\n",
       "      <th>2009-01-07</th>\n",
       "      <td>91.81</td>\n",
       "      <td>92.5</td>\n",
       "      <td>90.26</td>\n",
       "      <td>91.01</td>\n",
       "      <td>2.79937821954</td>\n",
       "      <td>26894600</td>\n",
       "      <td>0.0000</td>\n",
       "      <td>1.0</td>\n",
       "    </tr>\n",
       "    <tr>\n",
       "      <th>2009-01-06</th>\n",
       "      <td>95.95</td>\n",
       "      <td>97.17</td>\n",
       "      <td>92.39</td>\n",
       "      <td>93.02</td>\n",
       "      <td>2.86120384553</td>\n",
       "      <td>46046800</td>\n",
       "      <td>0.0000</td>\n",
       "      <td>1.0</td>\n",
       "    </tr>\n",
       "    <tr>\n",
       "      <th>2009-01-05</th>\n",
       "      <td>93.17</td>\n",
       "      <td>96.18</td>\n",
       "      <td>92.71</td>\n",
       "      <td>94.58</td>\n",
       "      <td>2.90918791346</td>\n",
       "      <td>42200300</td>\n",
       "      <td>0.0000</td>\n",
       "      <td>1.0</td>\n",
       "    </tr>\n",
       "    <tr>\n",
       "      <th>2009-01-02</th>\n",
       "      <td>85.88</td>\n",
       "      <td>91.04</td>\n",
       "      <td>85.16</td>\n",
       "      <td>90.75</td>\n",
       "      <td>2.79138087489</td>\n",
       "      <td>26643400</td>\n",
       "      <td>0.0000</td>\n",
       "      <td>1.0</td>\n",
       "    </tr>\n",
       "  </tbody>\n",
       "</table>\n",
       "<p>3078 rows × 8 columns</p>\n",
       "</div>"
      ],
      "text/plain": [
       "           1. open 2. high   3. low 4. close 5. adjusted close  6. volume  \\\n",
       "2021-03-25  119.54  121.66    119.0   120.59            120.59   98844681   \n",
       "2021-03-24  122.82   122.9  120.065   120.09            120.09   88530485   \n",
       "2021-03-23  123.33  124.24   122.14   122.54            122.54   95467142   \n",
       "2021-03-22  120.33  123.87   120.26   123.39            123.39  111912284   \n",
       "2021-03-19   119.9  121.43  119.675   119.99            119.99  185549522   \n",
       "...            ...     ...      ...      ...               ...        ...   \n",
       "2009-01-08   90.43   93.15    90.04     92.7      2.8513609598   24053600   \n",
       "2009-01-07   91.81    92.5    90.26    91.01     2.79937821954   26894600   \n",
       "2009-01-06   95.95   97.17    92.39    93.02     2.86120384553   46046800   \n",
       "2009-01-05   93.17   96.18    92.71    94.58     2.90918791346   42200300   \n",
       "2009-01-02   85.88   91.04    85.16    90.75     2.79138087489   26643400   \n",
       "\n",
       "           7. dividend amount 8. split coefficient  \n",
       "2021-03-25             0.0000                  1.0  \n",
       "2021-03-24             0.0000                  1.0  \n",
       "2021-03-23             0.0000                  1.0  \n",
       "2021-03-22             0.0000                  1.0  \n",
       "2021-03-19             0.0000                  1.0  \n",
       "...                       ...                  ...  \n",
       "2009-01-08             0.0000                  1.0  \n",
       "2009-01-07             0.0000                  1.0  \n",
       "2009-01-06             0.0000                  1.0  \n",
       "2009-01-05             0.0000                  1.0  \n",
       "2009-01-02             0.0000                  1.0  \n",
       "\n",
       "[3078 rows x 8 columns]"
      ]
     },
     "execution_count": 1,
     "metadata": {},
     "output_type": "execute_result"
    }
   ],
   "source": [
    "import requests as r\n",
    "import json\n",
    "import pandas as pd\n",
    "import matplotlib.pyplot as plt\n",
    "from matplotlib import pyplot\n",
    "import numpy as np\n",
    "\n",
    "\n",
    "response = r.get('https://www.alphavantage.co/query?function=TIME_SERIES_DAILY_ADJUSTED&symbol=aapl&outputsize=full&apikey=(4YF25HFLTRHUL65K)')\n",
    "\n",
    "data = response.text\n",
    "parsed = json.loads(data)\n",
    "metadata = parsed['Meta Data']\n",
    "tsdata = parsed['Time Series (Daily)']\n",
    "tsdf = pd.DataFrame.from_dict(tsdata, orient='index')\n",
    "tsdf_new=tsdf.loc[:'2009-01-02', :]\n",
    "index = pd.DatetimeIndex(tsdf_new.index)\n",
    "tsdf_new1 = pd.DataFrame(tsdf_new, index=index)\n",
    "#tsdf_new1['7. dividend amount'] = pd.to_numeric(tsdf_new1['7. dividend amount'])\n",
    "#tsdf_new1= tsdf_new1[tsdf_new1['7. dividend amount'] != 0]\n",
    "tsdf_new1\n",
    "\n"
   ]
  },
  {
   "cell_type": "code",
   "execution_count": 2,
   "metadata": {},
   "outputs": [
    {
     "data": {
      "text/plain": [
       "<AxesSubplot:xlabel='date'>"
      ]
     },
     "execution_count": 2,
     "metadata": {},
     "output_type": "execute_result"
    },
    {
     "data": {
      "image/png": "[encoded data removed]",
      "text/plain": [
       "<Figure size 432x288 with 1 Axes>"
      ]
     },
     "metadata": {
      "needs_background": "light"
     },
     "output_type": "display_data"
    }
   ],
   "source": [
    "tsdf_new1['price'] = tsdf_new1['5. adjusted close']\n",
    "tsdf_new1['date'] = tsdf_new1.index\n",
    "\n",
    "tsdf_new1.price = pd.to_numeric(tsdf_new1.price)\n",
    "tsdf_new1.date = pd.to_datetime(tsdf_new1.date)\n",
    "\n",
    "tsdf_new1.plot(y='price', x='date')"
   ]
  },
  {
   "cell_type": "code",
   "execution_count": 4,
   "metadata": {
    "scrolled": true
   },
   "outputs": [
    {
     "data": {
      "text/plain": [
       "Unnamed: 1     287830\n",
       "Unnamed: 2     258549\n",
       "Unnamed: 3     245062\n",
       "Unnamed: 4     241975\n",
       "Unnamed: 5     251087\n",
       "Unnamed: 6     248028\n",
       "Unnamed: 7     225783\n",
       "Unnamed: 8     236138\n",
       "Unnamed: 9     255827\n",
       "Unnamed: 10    258578\n",
       "Unnamed: 11    234248\n",
       "Unnamed: 12    240624\n",
       "Unnamed: 13    266595\n",
       "Unnamed: 14    241272\n",
       "Unnamed: 15    212748\n",
       "Unnamed: 16    200450\n",
       "Unnamed: 17    198751\n",
       "Unnamed: 18    193437\n",
       "Unnamed: 19    179061\n",
       "Unnamed: 20    174820\n",
       "Unnamed: 21    165017\n",
       "Unnamed: 22    170990\n",
       "Unnamed: 23    147474\n",
       "Unnamed: 24    132188\n",
       "Unnamed: 25    138566\n",
       "Unnamed: 26    120292\n",
       "Unnamed: 27    101580\n",
       "Unnamed: 28     85810\n",
       "Unnamed: 29     95500\n",
       "Unnamed: 30     83451\n",
       "Unnamed: 31     76502\n",
       "Unnamed: 32     59253\n",
       "Unnamed: 33     68742\n",
       "Unnamed: 34     57854\n",
       "Unnamed: 35     51150\n",
       "Unnamed: 36     48436\n",
       "Unnamed: 37     48627\n",
       "Unnamed: 38     39756\n",
       "Unnamed: 39     37415\n",
       "Unnamed: 40     33427\n",
       "Unnamed: 41     32076\n",
       "Unnamed: 42     27392\n",
       "Unnamed: 43     21614\n",
       "Unnamed: 44     17709\n",
       "Unnamed: 45     18158\n",
       "Unnamed: 46     15861\n",
       "Unnamed: 47     22252\n",
       "Unnamed: 48     18926\n",
       "Unnamed: 49     19878\n",
       "Name: TOTAL LIABILITIES, dtype: object"
      ]
     },
     "execution_count": 4,
     "metadata": {},
     "output_type": "execute_result"
    }
   ],
   "source": [
    "data1 = pd.read_excel('FundamReport.xls', sheet_name = 'Sheet1', index_col=0)\n",
    "debt = data1.loc['TOTAL LIABILITIES']\n",
    "date = data1.loc['Period End Date']\n",
    "debt\n",
    "\n",
    "\n"
   ]
  },
  {
   "cell_type": "code",
   "execution_count": 5,
   "metadata": {},
   "outputs": [
    {
     "data": {
      "text/plain": [
       "[<matplotlib.lines.Line2D at 0x25456102ac0>]"
      ]
     },
     "execution_count": 5,
     "metadata": {},
     "output_type": "execute_result"
    },
    {
     "data": {
      "image/png": "[encoded data removed]",
      "text/plain": [
       "<Figure size 432x288 with 1 Axes>"
      ]
     },
     "metadata": {
      "needs_background": "light"
     },
     "output_type": "display_data"
    }
   ],
   "source": [
    "plt.plot(date, debt)"
   ]
  },
  {
   "cell_type": "code",
   "execution_count": 6,
   "metadata": {},
   "outputs": [
    {
     "data": {
      "text/plain": [
       "<AxesSubplot:xlabel='date'>"
      ]
     },
     "execution_count": 6,
     "metadata": {},
     "output_type": "execute_result"
    },
    {
     "data": {
      "image/png": "[encoded data removed]",
      "text/plain": [
       "<Figure size 432x288 with 1 Axes>"
      ]
     },
     "metadata": {
      "needs_background": "light"
     },
     "output_type": "display_data"
    }
   ],
   "source": [
    "tsdf_new1['lnprice'] = np.log(tsdf_new1['price'])\n",
    "tsdf_new1.plot(y='lnprice', x='date')"
   ]
  },
  {
   "cell_type": "code",
   "execution_count": null,
   "metadata": {},
   "outputs": [],
   "source": []
  }
 ],
 "metadata": {
  "kernelspec": {
   "display_name": "Python 3",
   "language": "python",
   "name": "python3"
  },
  "language_info": {
   "codemirror_mode": {
    "name": "ipython",
    "version": 3
   },
   "file_extension": ".py",
   "mimetype": "text/x-python",
   "name": "python",
   "nbconvert_exporter": "python",
   "pygments_lexer": "ipython3",
   "version": "3.8.5"
  }
 },
 "nbformat": 4,
 "nbformat_minor": 4
}
